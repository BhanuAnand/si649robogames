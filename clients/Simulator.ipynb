{
 "cells": [
  {
   "cell_type": "code",
   "execution_count": 19,
   "metadata": {},
   "outputs": [],
   "source": [
    "import Robogame as rg\n",
    "import networkx as nx\n",
    "import altair as alt\n",
    "import time, json\n",
    "import pandas as pd\n",
    "import numpy as np"
   ]
  },
  {
   "cell_type": "markdown",
   "metadata": {},
   "source": [
    "# Simulator\n",
    "This is an example of a simulator. It will create bets for the two players and the just see what happens.\n",
    "\n",
    "I'm assuming two teams... one with the secret \"alice\" and one with \"bob.\" \n",
    "\n",
    "To launch the server for this you can do the following in your server directory:\n",
    "\n",
    "```python api.py -d ./example1 -t1s bob -t2s alice --matchsave bobvalice.json examplematch1```\n",
    "\n",
    "This will launch the example1match from the example1 directory, using the two secrets (alice and bob). The log of the game will get saved to bobvalice.json which might be useful for analysis after the fact."
   ]
  },
  {
   "cell_type": "code",
   "execution_count": 20,
   "metadata": {},
   "outputs": [],
   "source": [
    "# let's read the real match data... this will give us the *real* answers\n",
    "# you can modify this for different example files but remember to also launch the right server version\n",
    "robotdata = pd.read_csv(\"../server/example1/examplematch1.robotdata.csv\")"
   ]
  },
  {
   "cell_type": "code",
   "execution_count": 21,
   "metadata": {},
   "outputs": [],
   "source": [
    "# let's create objects for our two teams\n",
    "team1 = rg.Robogame(\"bob\")\n",
    "team2 = rg.Robogame(\"alice\")"
   ]
  },
  {
   "cell_type": "code",
   "execution_count": 22,
   "metadata": {},
   "outputs": [
    {
     "name": "stdout",
     "output_type": "stream",
     "text": [
      "{'Result': 'OK'}\n",
      "{'Result': 'OK'}\n"
     ]
    }
   ],
   "source": [
    "# tell the server we're ready\n",
    "print(team1.setReady())\n",
    "print(team2.setReady())"
   ]
  },
  {
   "cell_type": "code",
   "execution_count": 23,
   "metadata": {},
   "outputs": [
    {
     "name": "stdout",
     "output_type": "stream",
     "text": [
      "waiting to launch... game will start in 5\n",
      "waiting to launch... game will start in 4\n",
      "waiting to launch... game will start in 3\n",
      "waiting to launch... game will start in 2\n",
      "waiting to launch... game will start in 1\n",
      "waiting to launch... game will start in 0\n",
      "Let's go!\n"
     ]
    }
   ],
   "source": [
    "# wait for the match to launch\n",
    "while(True):\n",
    "    gametime = team1.getGameTime()\n",
    "    timetogo = gametime['gamestarttime_secs'] - gametime['servertime_secs']\n",
    "    if ('Error' in gametime):\n",
    "        print(\"Error\"+str(gametime))\n",
    "        break\n",
    "    if (timetogo <= 0):\n",
    "        print(\"Let's go!\")\n",
    "        break\n",
    "    \n",
    "    print(\"waiting to launch... game will start in \" + str(int(timetogo)))\n",
    "    time.sleep(1) # sleep 1 second at a time, wait for the game to start"
   ]
  },
  {
   "cell_type": "code",
   "execution_count": 24,
   "metadata": {},
   "outputs": [],
   "source": [
    "#let's try to figure out some strategy for each robot based on the real data\n",
    "\n",
    "omniplayerAllBets1 = {}\n",
    "omniplayerAllBets2 = {}\n",
    "\n",
    "\n",
    "# grab the robots that we can guess for\n",
    "for row in robotdata[robotdata.id < 100].sort_values('id').iterrows():\n",
    "    row = row[1]                # get the row data\n",
    "    expires = int(row.expires)  # figure out when the robot expires\n",
    "    col = \"t_\"+str(expires)     # look up the value at that time\n",
    "    valAtExp = row[col]         # this is the true value\n",
    "\n",
    "    # you can also do things like only get for robots with a positive Productivity\n",
    "    #if (row.Productivity > 0):\n",
    "    #    .... robot is productive, make a guess\n",
    "    #else:\n",
    "    #    .... robot is unproductive, guess -1\n",
    "    \n",
    "    # pick a random number around the true answer (normal distrib with mean of valAtExp, stdev of 20)\n",
    "    val = int(np.random.normal(valAtExp,20))\n",
    "    if (val <  0):\n",
    "        val = 0\n",
    "    if (val > 100):\n",
    "        val = 100\n",
    "        \n",
    "    omniplayerAllBets1[row.id] = val\n",
    "    \n",
    "    # pick a random number around the true answer (normal distrib with mean of valAtExp, stdev of 10)\n",
    "    # this will be for team2 which are going to be slightly more accurate\n",
    "    val = int(np.random.normal(valAtExp,10))\n",
    "    if (val <  0):\n",
    "        val = 0\n",
    "    if (val > 100):\n",
    "        val = 100\n",
    "        \n",
    "    omniplayerAllBets2[row.id] = val\n"
   ]
  },
  {
   "cell_type": "code",
   "execution_count": 25,
   "metadata": {},
   "outputs": [
    {
     "data": {
      "text/plain": [
       "{'Result': 'OK'}"
      ]
     },
     "execution_count": 25,
     "metadata": {},
     "output_type": "execute_result"
    }
   ],
   "source": [
    "# set the bets for the two teams\n",
    "team1.setBets(omniplayerAllBets1)\n",
    "team2.setBets(omniplayerAllBets2)"
   ]
  },
  {
   "cell_type": "code",
   "execution_count": null,
   "metadata": {},
   "outputs": [
    {
     "name": "stdout",
     "output_type": "stream",
     "text": [
      "time:  0.06\n",
      "        Productivity\n",
      "winner              \n",
      "-2               0.0\n",
      "time:  1.06\n",
      "        Productivity\n",
      "winner              \n",
      "-2               0.0\n",
      "time:  2.08\n",
      "        Productivity\n",
      "winner              \n",
      "-2               0.0\n",
      "time:  3.09\n",
      "        Productivity\n",
      "winner              \n",
      "-2               0.0\n",
      "time:  4.1\n",
      "        Productivity\n",
      "winner              \n",
      "-2               0.0\n",
      "time:  5.11\n",
      "        Productivity\n",
      "winner              \n",
      "-2               0.0\n",
      "time:  6.12\n",
      "        Productivity\n",
      "winner              \n",
      "-2               0.0\n",
      "time:  7.13\n",
      "        Productivity\n",
      "winner              \n",
      "-2               0.0\n",
      "time:  8.14\n",
      "        Productivity\n",
      "winner              \n",
      "-2               0.0\n",
      "time:  9.16\n",
      "        Productivity\n",
      "winner              \n",
      "-2               0.0\n",
      "time:  10.17\n",
      "        Productivity\n",
      "winner              \n",
      "-2               0.0\n",
      "time:  11.18\n",
      "        Productivity\n",
      "winner              \n",
      "-2               0.0\n",
      "time:  12.2\n",
      "        Productivity\n",
      "winner              \n",
      "-2               0.0\n",
      "time:  13.21\n",
      "        Productivity\n",
      "winner              \n",
      "-2               0.0\n",
      "time:  14.23\n",
      "        Productivity\n",
      "winner              \n",
      "-2               0.0\n",
      "time:  15.25\n",
      "        Productivity\n",
      "winner              \n",
      "-2               0.0\n",
      "time:  16.26\n",
      "        Productivity\n",
      "winner              \n",
      "-2               0.0\n",
      "time:  17.28\n",
      "        Productivity\n",
      "winner              \n",
      "-2               0.0\n",
      "time:  18.29\n",
      "        Productivity\n",
      "winner              \n",
      "-2               0.0\n",
      "time:  19.3\n",
      "        Productivity\n",
      "winner              \n",
      "-2               0.0\n",
      "time:  20.31\n",
      "        Productivity\n",
      "winner              \n",
      "-2          0.000000\n",
      " 2         30.688828\n",
      "time:  21.33\n",
      "        Productivity\n",
      "winner              \n",
      "-2          0.000000\n",
      " 2         30.688828\n",
      "time:  22.34\n",
      "        Productivity\n",
      "winner              \n",
      "-2          0.000000\n",
      " 2         40.833805\n"
     ]
    }
   ],
   "source": [
    "# sit and wait until the 10 minutes are done\n",
    "# this will show you the scores as the game advances\n",
    "for i in np.arange(0,100):\n",
    "    x = team1.getRobotInfo()\n",
    "    t = team1.getGameTime()\n",
    "    if 'curtime' in t:\n",
    "        if (t['curtime'] >= 100):\n",
    "            break\n",
    "    else:\n",
    "        break\n",
    "    \n",
    "    # we're going to ask for hints even though we won't use them here\n",
    "    team1.getHints()\n",
    "    team2.getHints()\n",
    "    \n",
    "    print(\"time: \",t['curtime'])\n",
    "    print(x[['winner','Productivity']].groupby(['winner']).sum())\n",
    "    time.sleep(6)"
   ]
  },
  {
   "cell_type": "code",
   "execution_count": 18,
   "metadata": {},
   "outputs": [],
   "source": [
    "# that's more or less it... you can modify the guesses us different strategies\n",
    "# for example, you can also consider the network"
   ]
  },
  {
   "cell_type": "code",
   "execution_count": null,
   "metadata": {},
   "outputs": [],
   "source": []
  }
 ],
 "metadata": {
  "kernelspec": {
   "display_name": "Python 3",
   "language": "python",
   "name": "python3"
  },
  "language_info": {
   "codemirror_mode": {
    "name": "ipython",
    "version": 3
   },
   "file_extension": ".py",
   "mimetype": "text/x-python",
   "name": "python",
   "nbconvert_exporter": "python",
   "pygments_lexer": "ipython3",
   "version": "3.8.5"
  }
 },
 "nbformat": 4,
 "nbformat_minor": 4
}
